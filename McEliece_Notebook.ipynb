{
 "cells": [
  {
   "cell_type": "code",
   "execution_count": 3,
   "metadata": {},
   "outputs": [
    {
     "data": {
      "text/plain": [
       "[0 1 1 1]\n",
       "[1 1 0 1]\n",
       "[1 1 0 0]\n",
       "[1 1 1 1]"
      ]
     },
     "execution_count": 3,
     "metadata": {},
     "output_type": "execute_result"
    }
   ],
   "source": [
    "S = matrix(GF(2),[[0,1,1,1],[1,1,0,1],[1,1,0,0],[1,1,1,1]])\n",
    "S\n"
   ]
  },
  {
   "cell_type": "code",
   "execution_count": 4,
   "metadata": {},
   "outputs": [
    {
     "data": {
      "text/plain": [
       "[1 0 0 0 1 1 0]\n",
       "[0 1 0 0 0 1 1]\n",
       "[0 0 1 0 1 1 1]\n",
       "[0 0 0 1 1 0 1]"
      ]
     },
     "execution_count": 4,
     "metadata": {},
     "output_type": "execute_result"
    }
   ],
   "source": [
    "G = matrix(GF(2),[[1,0,0,0,1,1,0],[0,1,0,0,0,1,1],[0,0,1,0,1,1,1],[0,0,0,1,1,0,1]])\n",
    "G"
   ]
  },
  {
   "cell_type": "code",
   "execution_count": 5,
   "metadata": {},
   "outputs": [
    {
     "data": {
      "text/plain": [
       "[0 0 0 0 1 0 0]\n",
       "[0 1 0 0 0 0 0]\n",
       "[0 0 0 1 0 0 0]\n",
       "[0 0 0 0 0 0 1]\n",
       "[0 0 0 0 0 1 0]\n",
       "[0 0 1 0 0 0 0]\n",
       "[1 0 0 0 0 0 0]"
      ]
     },
     "execution_count": 5,
     "metadata": {},
     "output_type": "execute_result"
    }
   ],
   "source": [
    "P = matrix(GF(2),[[0,0,0,0,1,0,0],[0,1,0,0,0,0,0],[0,0,0,1,0,0,0],[0,0,0,0,0,0,1],[0,0,0,0,0,1,0],[0,0,1,0,0,0,0],[1,0,0,0,0,0,0]])\n",
    "P"
   ]
  },
  {
   "cell_type": "code",
   "execution_count": 6,
   "metadata": {},
   "outputs": [
    {
     "data": {
      "text/plain": [
       "[1 1 0 1 0 0 1]\n",
       "[0 1 0 0 1 0 1]\n",
       "[1 1 0 0 1 1 0]\n",
       "[1 1 1 1 1 1 1]"
      ]
     },
     "execution_count": 6,
     "metadata": {},
     "output_type": "execute_result"
    }
   ],
   "source": [
    "#G tilde : the public key of Alice\n",
    "Gt = S*G*P\n",
    "Gt"
   ]
  },
  {
   "cell_type": "code",
   "execution_count": 7,
   "metadata": {},
   "outputs": [
    {
     "data": {
      "text/plain": [
       "[0 1 0 1]"
      ]
     },
     "execution_count": 7,
     "metadata": {},
     "output_type": "execute_result"
    }
   ],
   "source": [
    "#message bob wants to send\n",
    "m = matrix(GF(2),[0,1,0,1])\n",
    "m"
   ]
  },
  {
   "cell_type": "code",
   "execution_count": 8,
   "metadata": {},
   "outputs": [
    {
     "data": {
      "text/plain": [
       "[1 0 1 1 0 1 0]"
      ]
     },
     "execution_count": 8,
     "metadata": {},
     "output_type": "execute_result"
    }
   ],
   "source": [
    "#the codeword corresponding to the message is \n",
    "m*Gt"
   ]
  },
  {
   "cell_type": "code",
   "execution_count": 9,
   "metadata": {},
   "outputs": [],
   "source": [
    "#error that Bob adds\n",
    "e = matrix(GF(2),[0,0,0,1,0,0,0])"
   ]
  },
  {
   "cell_type": "code",
   "execution_count": 10,
   "metadata": {},
   "outputs": [],
   "source": [
    "# e * P_inv * P"
   ]
  },
  {
   "cell_type": "code",
   "execution_count": 11,
   "metadata": {
    "scrolled": true
   },
   "outputs": [
    {
     "data": {
      "text/plain": [
       "[1 0 1 0 0 1 0]"
      ]
     },
     "execution_count": 11,
     "metadata": {},
     "output_type": "execute_result"
    }
   ],
   "source": [
    "#The final code word bob generates is\n",
    "c = m*Gt + e\n",
    "c"
   ]
  },
  {
   "cell_type": "code",
   "execution_count": 12,
   "metadata": {},
   "outputs": [],
   "source": [
    "#inverse of P\n",
    "P_inv = P.transpose()"
   ]
  },
  {
   "cell_type": "code",
   "execution_count": 13,
   "metadata": {},
   "outputs": [
    {
     "data": {
      "text/plain": [
       "[0 0 0 0 1 1 1]"
      ]
     },
     "execution_count": 13,
     "metadata": {},
     "output_type": "execute_result"
    }
   ],
   "source": [
    "#Decryption process by Alice\n",
    "\n",
    "y = c * P_inv\n",
    "y"
   ]
  },
  {
   "cell_type": "code",
   "execution_count": 17,
   "metadata": {},
   "outputs": [
    {
     "data": {
      "text/plain": [
       "[1 0 1 1 1 0 0]\n",
       "[1 1 1 0 0 1 0]\n",
       "[0 1 1 1 0 0 1]"
      ]
     },
     "execution_count": 17,
     "metadata": {},
     "output_type": "execute_result"
    }
   ],
   "source": []
  },
  {
   "cell_type": "code",
   "execution_count": 13,
   "metadata": {},
   "outputs": [
    {
     "data": {
      "text/plain": [
       "[1 0 1 1 1 0 0]\n",
       "[1 1 1 0 0 1 0]\n",
       "[0 1 1 1 0 0 1]"
      ]
     },
     "execution_count": 13,
     "metadata": {},
     "output_type": "execute_result"
    }
   ],
   "source": [
    "#Alice constructs the matrix H to apply syndrome Decoding\n",
    "\n",
    "H = matrix(GF(2),[[1,0,1,1,1,0,0],[1,1,1,0,0,1,0],[0,1,1,1,0,0,1]])\n",
    "H"
   ]
  },
  {
   "cell_type": "code",
   "execution_count": 14,
   "metadata": {},
   "outputs": [
    {
     "data": {
      "text/plain": [
       "[1]\n",
       "[1]\n",
       "[1]"
      ]
     },
     "execution_count": 14,
     "metadata": {},
     "output_type": "execute_result"
    }
   ],
   "source": [
    "# c-tilde \n",
    "ct = H * y.transpose()\n",
    "ct"
   ]
  },
  {
   "cell_type": "code",
   "execution_count": 15,
   "metadata": {},
   "outputs": [],
   "source": [
    "# the error position according to syndrome in H\n",
    "error_pos = matrix(GF(2),[0,0,1,0,0,0,0])"
   ]
  },
  {
   "cell_type": "code",
   "execution_count": 16,
   "metadata": {},
   "outputs": [
    {
     "data": {
      "text/plain": [
       "[0 0 0 1 0 0 0]"
      ]
     },
     "execution_count": 16,
     "metadata": {},
     "output_type": "execute_result"
    }
   ],
   "source": [
    "#The final position \n",
    "error_posf = error_pos * P\n",
    "error_posf"
   ]
  },
  {
   "cell_type": "code",
   "execution_count": 17,
   "metadata": {},
   "outputs": [
    {
     "data": {
      "text/plain": [
       "[1 0 1 1 0 1 0]"
      ]
     },
     "execution_count": 17,
     "metadata": {},
     "output_type": "execute_result"
    }
   ],
   "source": [
    "#recovered message is \n",
    "message_codeword = c - error_posf\n",
    "message_codeword"
   ]
  },
  {
   "cell_type": "code",
   "execution_count": 0,
   "metadata": {},
   "outputs": [],
   "source": []
  }
 ],
 "metadata": {
  "kernelspec": {
   "display_name": "SageMath 9.3",
   "language": "sage",
   "name": "sagemath"
  },
  "language_info": {
   "codemirror_mode": {
    "name": "ipython",
    "version": 3
   },
   "file_extension": ".py",
   "mimetype": "text/x-python",
   "name": "python",
   "nbconvert_exporter": "python",
   "pygments_lexer": "ipython3",
   "version": "3.7.10"
  }
 },
 "nbformat": 4,
 "nbformat_minor": 4
}
